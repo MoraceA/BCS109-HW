{
  "nbformat": 4,
  "nbformat_minor": 0,
  "metadata": {
    "colab": {
      "name": "HW9",
      "provenance": [],
      "authorship_tag": "ABX9TyP2+YUp6DTr28YGUqIZ6R80",
      "include_colab_link": true
    },
    "kernelspec": {
      "name": "python3",
      "display_name": "Python 3"
    },
    "language_info": {
      "name": "python"
    }
  },
  "cells": [
    {
      "cell_type": "markdown",
      "metadata": {
        "id": "view-in-github",
        "colab_type": "text"
      },
      "source": [
        "<a href=\"https://colab.research.google.com/github/MoraceA/BCS109-HW/blob/main/HW9.ipynb\" target=\"_parent\"><img src=\"https://colab.research.google.com/assets/colab-badge.svg\" alt=\"Open In Colab\"/></a>"
      ]
    },
    {
      "cell_type": "code",
      "execution_count": 5,
      "metadata": {
        "colab": {
          "base_uri": "https://localhost:8080/"
        },
        "id": "s_x8p-MXZ0R5",
        "outputId": "51e85072-ff00-42c1-cbab-e9e51d223ad2"
      },
      "outputs": [
        {
          "output_type": "stream",
          "name": "stdout",
          "text": [
            "13\n",
            "5.683245170896967\n",
            "1.2037749266678028\n"
          ]
        }
      ],
      "source": [
        "#max, min,avg\n",
        "\n",
        "import numpy as np\n",
        "import math as m\n",
        "def theMax(numbers):\n",
        "  my_max = numbers[0]\n",
        "  for i in numbers:\n",
        "    if my_max < i:\n",
        "      my_max = i\n",
        "  return my_max\n",
        "\n",
        "\n",
        "def theMin(numbers):\n",
        "  my_min = numbers[0]\n",
        "  for i in numbers:\n",
        "    if my_min > i:\n",
        "      my_min = i\n",
        "  return my_min\n",
        "\n",
        "\n",
        "def theAverage(numbers):\n",
        "  total = 0\n",
        "  for i in numbers:\n",
        "    total+= i\n",
        "  return total/len(numbers)\n",
        "\n",
        "def theGeoMean(numbers):\n",
        "  total = 1\n",
        "  for i in numbers:\n",
        "    total *= i\n",
        "  return total**(1/len(numbers))\n",
        "\n",
        "\n",
        "def theStandardDev(numbers):\n",
        "  theAvg = theAverage(numbers)\n",
        "  total = 0\n",
        "  for i in numbers:\n",
        "    total = (i-theAvg)**2\n",
        "  return m.sqrt(total/len(numbers)-1)\n",
        "\n",
        "\n",
        "\n",
        "\n",
        "a = [8, 6, 2, 9, 13, 3]\n",
        "print(theMax(a))\n",
        "print(theGeoMean(a))\n",
        "print(theStandardDev(a))"
      ]
    },
    {
      "cell_type": "code",
      "source": [
        "#area\n",
        "def circleArea(radius):\n",
        "  return m.pi*radius**2\n",
        "\n",
        "def rectangleArea(length, width):\n",
        "  return length*width\n",
        "\n",
        "def squareArea(side):\n",
        "  return side*side\n",
        "\n",
        "def triangleArea(base, height):\n",
        "  return base*height/2\n",
        "\n",
        "\n",
        "def generalArea():\n",
        "  value = input(\"Which would you like to know the area of [circle, square, rectangle, triangle]\")\n",
        "  if value is 'circle':\n",
        "    radius = float(input(\"What's the radius?\"))\n",
        "    print(\"The area is {circleArea(radius)}.\")\n",
        "  elif value is 'square':\n",
        "    side = float(input(\"What are the sides?\"))\n",
        "    print(\"The area is {squareArea(side)}.\")\n",
        "  elif value is 'recgangle':\n",
        "    length, width = float(input(\"What is the length and width?\"))\n",
        "    print(\"The area is {rectangleArea(length, width}.\")\n",
        "  elif value is 'triangle':\n",
        "    base, height = float(input(\"What is the base and height?\"))\n",
        "    print(\"The area is {triangleArea(base, height)}.\")\n",
        "\n",
        "\n",
        "#to run once finished\n",
        "print(generalArea())\n"
      ],
      "metadata": {
        "id": "RA3vPjBntd1n"
      },
      "execution_count": null,
      "outputs": []
    },
    {
      "cell_type": "code",
      "source": [
        "def listDoubling():\n",
        "  x = [1,2,3]\n",
        "  y = [1,2,3]\n",
        "  choice = int(input(\"Would you like it doubled by way one (1) or way two (2)?\"))\n",
        "  if choice == 1:\n",
        "    print(x+y)\n",
        "  else:\n",
        "    print(np.array(x)+ np.array(y))\n",
        "    "
      ],
      "metadata": {
        "id": "2-xAB9mlwObP"
      },
      "execution_count": null,
      "outputs": []
    },
    {
      "cell_type": "code",
      "source": [
        "def isprime(num):\n",
        "  for i in range(2,num):\n",
        "    if (num%i == 0):\n",
        "      return False\n",
        "  return True\n",
        "\n",
        "  def listPrimes(amount):\n",
        "    #an empty list\n",
        "    myList = []\n",
        "    count = 0\n",
        "    while (count < amount):\n",
        "      if(isPrime(checkVal)):\n",
        "        myList.append(checkVal)\n",
        "        count+= 1\n",
        "      checkVal +=1 \n",
        "    return myList \n",
        "\n",
        "print(listPrimes(100))\n",
        "\n",
        "\n"
      ],
      "metadata": {
        "id": "Q9XzCW03zkrH"
      },
      "execution_count": null,
      "outputs": []
    },
    {
      "cell_type": "code",
      "source": [
        "def calculation(one, two):\n",
        "  return one*two, one/two\n",
        "\n",
        "  myVal = calculation(9,2)\n",
        "  print(myVal[0])\n",
        "  print(myVal[1])\n",
        "  "
      ],
      "metadata": {
        "id": "LLKGdtyG1FCl"
      },
      "execution_count": null,
      "outputs": []
    },
    {
      "cell_type": "code",
      "source": [
        "myList = []\n",
        "for i in range(1000):\n",
        "  if (i%3 == 0) or (i%5 ==0):\n",
        "    myList.append(i)\n",
        "\n",
        "total = 0\n",
        "for i in myList:\n",
        "  total = total + i\n",
        "\n",
        "\n",
        "print(total)\n"
      ],
      "metadata": {
        "id": "PeSKQxO516lj"
      },
      "execution_count": null,
      "outputs": []
    },
    {
      "cell_type": "code",
      "source": [
        "#set up\n",
        "bound = 500\n",
        "numOne = 1\n",
        "numTwo = 1\n",
        "numThree = numOne + numTwo\n",
        "total = 0\n",
        "\n",
        "while numThree < bound:\n",
        "  numThree = numOne + numTwo\n",
        "  if numThree%2 == 0 and numThree < bound:\n",
        "    total += numThree\n",
        "  numOne = numTwo\n",
        "  numTwo = numThree\n",
        "\n",
        "\n",
        "  print(total)\n"
      ],
      "metadata": {
        "id": "SgCyyzHM2mvY"
      },
      "execution_count": null,
      "outputs": []
    },
    {
      "cell_type": "code",
      "source": [
        "#create a list\n",
        "def concat_lists(list1, list2):\n",
        "  concated = []\n",
        "  for (i, j) in zip(list1, list2):\n",
        "    concated.append(int(str(i)+ str(j)))\n",
        "  return concated\n",
        "\n",
        "\n",
        "list1 = [1,2,3]\n",
        "list2 = [7,8,9]\n",
        "print(concat_lists(list1,list2))\n"
      ],
      "metadata": {
        "id": "CxHA8-3728ce"
      },
      "execution_count": null,
      "outputs": []
    }
  ]
}