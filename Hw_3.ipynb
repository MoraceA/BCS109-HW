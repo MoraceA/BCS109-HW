{
  "nbformat": 4,
  "nbformat_minor": 0,
  "metadata": {
    "colab": {
      "name": "Hw 3",
      "provenance": [],
      "authorship_tag": "ABX9TyNEyYgPOQtp2X7zijNwgQNE",
      "include_colab_link": true
    },
    "kernelspec": {
      "name": "python3",
      "display_name": "Python 3"
    },
    "language_info": {
      "name": "python"
    }
  },
  "cells": [
    {
      "cell_type": "markdown",
      "metadata": {
        "id": "view-in-github",
        "colab_type": "text"
      },
      "source": [
        "<a href=\"https://colab.research.google.com/github/MoraceA/BCS109-HW/blob/main/Hw_3.ipynb\" target=\"_parent\"><img src=\"https://colab.research.google.com/assets/colab-badge.svg\" alt=\"Open In Colab\"/></a>"
      ]
    },
    {
      "cell_type": "code",
      "execution_count": null,
      "metadata": {
        "id": "nFvwr7Y0P95k"
      },
      "outputs": [],
      "source": [
        ""
      ]
    },
    {
      "cell_type": "markdown",
      "source": [
        "#HW Wk3\n",
        "\n",
        "This is an **investment calculator** if you put in the amount invested, the rate, and the time period, then it will output the return for every five years of that time period.\n",
        "\n",
        "The forumla used is:\n",
        "\n",
        "> $Future Value = Principal*(1+rate)^{time}$"
      ],
      "metadata": {
        "id": "IcHN4uy_Q0H6"
      }
    },
    {
      "cell_type": "code",
      "source": [
        "#gather the amount invested\n",
        "principal = float(input(\"What is the amount per month you will be investing?\"))\n",
        "principal *= 12\n",
        "\n",
        "#Find out what the rate is and do data validation to ensure it is a percent\n",
        "rate = float(input(\"What rate do you expect to earn yearly?\"))\n",
        "if(rate > 1):\n",
        "  rate /= 100\n",
        "\n",
        "#find out how long this will be for\n",
        "time = int(input(\"How many years do you expect to hold this investment?\"))\n",
        "\n",
        "#calculate the return for every five years\n",
        "for i in range(0,time+1,5):\n",
        "  FV = principal*(1+rate)**i\n",
        "  print(f'{i} \\t${FV:.2f}')"
      ],
      "metadata": {
        "colab": {
          "base_uri": "https://localhost:8080/"
        },
        "id": "UQp-sHSAQ5lf",
        "outputId": "a35dd9cd-09b0-485c-dd9d-a4e226f226a7"
      },
      "execution_count": null,
      "outputs": [
        {
          "output_type": "stream",
          "name": "stdout",
          "text": [
            "What is the amount per month you will be investing?100\n",
            "What rate do you expect to earn yearly?.11\n",
            "How many years do you expect to hold this investment?40\n",
            "0 \t$1200.00\n",
            "5 \t$2022.07\n",
            "10 \t$3407.31\n",
            "15 \t$5741.51\n",
            "20 \t$9674.77\n",
            "25 \t$16302.56\n",
            "30 \t$27470.76\n",
            "35 \t$46289.82\n",
            "40 \t$78001.04\n"
          ]
        }
      ]
    },
    {
      "cell_type": "code",
      "source": [
        "for i in range(0,31,5):\n",
        "  print(i)"
      ],
      "metadata": {
        "colab": {
          "base_uri": "https://localhost:8080/"
        },
        "id": "0klOOIRBWJGa",
        "outputId": "38929254-c279-4be5-e169-8f3b4ab58238"
      },
      "execution_count": null,
      "outputs": [
        {
          "output_type": "stream",
          "name": "stdout",
          "text": [
            "0\n",
            "5\n",
            "10\n",
            "15\n",
            "20\n",
            "25\n",
            "30\n"
          ]
        }
      ]
    },
    {
      "cell_type": "markdown",
      "source": [
        "##Present Value Calculator"
      ],
      "metadata": {
        "id": "tTDRDR9KkZjd"
      }
    },
    {
      "cell_type": "code",
      "source": [
        "#gather the amount invested\n",
        "principal = float(input(\"What is the future value?\"))\n",
        "\n",
        "#find out what the rate is and do data validation to ensure it is a percent\n",
        "rate = float(input(\"What rate do you expect to earn yearly?\"))\n",
        "if(rate > 1):\n",
        "  rate /=100\n",
        "\n",
        "  #find out how long this will be for\n",
        "time = int(input(\"How many years do you expect to hold this investment?\"))\n",
        "\n",
        "output = principal/(1+rate)**time\n",
        "print(f\"The present value of your investment is ${output:,.2f}\")"
      ],
      "metadata": {
        "colab": {
          "base_uri": "https://localhost:8080/"
        },
        "id": "BlyYJ5Fhke1-",
        "outputId": "c7e21327-353b-46ad-f5ee-405e5b4418ba"
      },
      "execution_count": null,
      "outputs": [
        {
          "output_type": "stream",
          "name": "stdout",
          "text": [
            "What is the future value?100000\n",
            "What rate do you expect to earn yearly?.11\n",
            "How many years do you expect to hold this investment?30\n",
            "The present value of your investment is $4,368.28\n"
          ]
        }
      ]
    }
  ]
}