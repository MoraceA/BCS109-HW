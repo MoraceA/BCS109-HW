{
  "nbformat": 4,
  "nbformat_minor": 0,
  "metadata": {
    "colab": {
      "name": "4/1 hw",
      "provenance": [],
      "authorship_tag": "ABX9TyMjncGwBFKvL4hMS2ic0/8f",
      "include_colab_link": true
    },
    "kernelspec": {
      "name": "python3",
      "display_name": "Python 3"
    },
    "language_info": {
      "name": "python"
    }
  },
  "cells": [
    {
      "cell_type": "markdown",
      "metadata": {
        "id": "view-in-github",
        "colab_type": "text"
      },
      "source": [
        "<a href=\"https://colab.research.google.com/github/MoraceA/BCS109-HW/blob/main/4_1_hw.ipynb\" target=\"_parent\"><img src=\"https://colab.research.google.com/assets/colab-badge.svg\" alt=\"Open In Colab\"/></a>"
      ]
    },
    {
      "cell_type": "code",
      "execution_count": null,
      "metadata": {
        "colab": {
          "base_uri": "https://localhost:8080/"
        },
        "id": "zJg68AtGVS8W",
        "outputId": "013aad90-47a8-4738-c9d3-f94b271ad089"
      },
      "outputs": [
        {
          "output_type": "stream",
          "name": "stdout",
          "text": [
            "3.5\n",
            "4.5\n",
            "0.2694\n"
          ]
        }
      ],
      "source": [
        "import numpy as np\n",
        "\n",
        "#avg of two numbers\n",
        "def avg_of_2(x,y):\n",
        "  return (x+y)/2\n",
        "\n",
        "#avg of list of numbers\n",
        "def avg_of_list(myNums):\n",
        "  total = 0\n",
        "  for i in myNums:\n",
        "    total = total + i\n",
        "  return total/len(myNums)\n",
        "\n",
        "def expectedValue1(info, weights):\n",
        "  return (info @ weights)\n",
        "\n",
        "num_one = 2\n",
        "num_two = 5\n",
        "print(avg_of_2(num_one, num_two))\n",
        "\n",
        "z = [1,2,3,4,5,6,7,8]\n",
        "print(avg_of_list(z))\n",
        "\n",
        "info = np.array([.1,.15,.07,.32,.36])\n",
        "weights = np.array([.1,.15,.07,.32,.36])\n",
        "print(expectedValue1(info,weights))\n",
        "\n"
      ]
    },
    {
      "cell_type": "code",
      "source": [
        "#sum from a to b\n",
        "def sumRange(a, b):\n",
        "  total =0\n",
        "  for i in range(a,b+1):\n",
        "    total = total + i\n",
        "  return total\n",
        "\n",
        "print(sumRange(5,8))\n",
        "\n"
      ],
      "metadata": {
        "colab": {
          "base_uri": "https://localhost:8080/"
        },
        "id": "Hty-v8gDaRpg",
        "outputId": "d7fa0374-beaf-40cc-d46c-c9d21b1a7120"
      },
      "execution_count": null,
      "outputs": [
        {
          "output_type": "stream",
          "name": "stdout",
          "text": [
            "26\n"
          ]
        }
      ]
    },
    {
      "cell_type": "code",
      "source": [
        "#output the triangle numbers, or squares, or pentagonal numbers\n",
        "def shapeNumbers(shape):\n",
        "  if (shape == \"triangle\"):\n",
        "    skipVal = 1\n",
        "  elif(shape == \"square\"):\n",
        "    skipVal = 2\n",
        "  elif(shape == \"pentagon\"):\n",
        "    skipVal = 3\n",
        "\n",
        "  total = 0\n",
        "  for i in range(1,100,skipVal):\n",
        "    total = total + i\n",
        "    print(total,end = \" \")\n",
        "  print()\n",
        "\n",
        "shapeNumbers(\"triangle\")\n",
        "shapeNumbers(\"square\")\n",
        "shapeNumbers(\"pentagon\")\n"
      ],
      "metadata": {
        "colab": {
          "base_uri": "https://localhost:8080/"
        },
        "id": "wPBj92EAaR2A",
        "outputId": "27d0e929-78c5-4fb8-fb8e-1d4a28ae1b64"
      },
      "execution_count": null,
      "outputs": [
        {
          "output_type": "stream",
          "name": "stdout",
          "text": [
            "1 3 6 10 15 21 28 36 45 55 66 78 91 105 120 136 153 171 190 210 231 253 276 300 325 351 378 406 435 465 496 528 561 595 630 666 703 741 780 820 861 903 946 990 1035 1081 1128 1176 1225 1275 1326 1378 1431 1485 1540 1596 1653 1711 1770 1830 1891 1953 2016 2080 2145 2211 2278 2346 2415 2485 2556 2628 2701 2775 2850 2926 3003 3081 3160 3240 3321 3403 3486 3570 3655 3741 3828 3916 4005 4095 4186 4278 4371 4465 4560 4656 4753 4851 4950 \n",
            "1 4 9 16 25 36 49 64 81 100 121 144 169 196 225 256 289 324 361 400 441 484 529 576 625 676 729 784 841 900 961 1024 1089 1156 1225 1296 1369 1444 1521 1600 1681 1764 1849 1936 2025 2116 2209 2304 2401 2500 \n",
            "1 5 12 22 35 51 70 92 117 145 176 210 247 287 330 376 425 477 532 590 651 715 782 852 925 1001 1080 1162 1247 1335 1426 1520 1617 \n"
          ]
        }
      ]
    },
    {
      "cell_type": "markdown",
      "source": [
        "3. "
      ],
      "metadata": {
        "id": "cMlUbJaYeS6V"
      }
    },
    {
      "cell_type": "code",
      "source": [
        "#list  of primes below some n\n",
        "#first create a function that tells you if a number is prime\n",
        "def isPrime(number):\n",
        "  for i in range(2,number):\n",
        "    if(number%i == 0):\n",
        "      return False\n",
        "  return True\n",
        "\n",
        "def listPrimes(number):\n",
        "  for i in range(2,number+1):\n",
        "    if(isPrime(i)):\n",
        "      print(i, end = \" \")\n",
        "\n",
        "listPrimes(100)\n"
      ],
      "metadata": {
        "colab": {
          "base_uri": "https://localhost:8080/"
        },
        "id": "GXvnhko-eV49",
        "outputId": "4f769e7a-d4f7-4b84-c888-b106010873f4"
      },
      "execution_count": null,
      "outputs": [
        {
          "output_type": "stream",
          "name": "stdout",
          "text": [
            "2 3 5 7 11 13 17 19 23 29 31 37 41 43 47 53 59 61 67 71 73 79 83 89 97 "
          ]
        }
      ]
    },
    {
      "cell_type": "code",
      "source": [
        "#list all numbers below some n that are coprime to it\n",
        "#coprime means that a and b only share 1 as a divisor\n",
        "#for instance 12 shares only a 1 with 1, 5,7, and 11\n",
        "#the key here is to break don the problem into multiple functions\n",
        "def isCoprime(a,b):\n",
        "  #make sure a < b\n",
        "  if(a > b):\n",
        "    holder = a \n",
        "    a = b\n",
        "    b = holder \n",
        "\n",
        "  for i in range(2,a+1):\n",
        "    if(a%i ==0 and b%i ==0):\n",
        "      return False\n",
        "  return True\n",
        "\n",
        "\n",
        "def listCoprimes(number):\n",
        "  for i in range(1,number):\n",
        "    if(isCoprime(i,number)):\n",
        "      print(i, end= \" \")\n",
        "\n",
        "listCoprimes(12)\n"
      ],
      "metadata": {
        "colab": {
          "base_uri": "https://localhost:8080/"
        },
        "id": "1K3ujOqlfwSn",
        "outputId": "1faa8587-5b0d-4fd4-9a25-21f79b7d916a"
      },
      "execution_count": null,
      "outputs": [
        {
          "output_type": "stream",
          "name": "stdout",
          "text": [
            "1 5 7 11 "
          ]
        }
      ]
    },
    {
      "cell_type": "code",
      "source": [
        "#list twin primes\n",
        "\n",
        "def isTwinPrime(s):\n",
        "  if(isPrime(s) and isPrime(s+2)):\n",
        "    return True\n",
        "  return False\n",
        "\n",
        "def listTwinPrimes(number):\n",
        "  for i in range(2,number+1):\n",
        "    if(isTwinPrime(i)):\n",
        "      print(i,i+2)\n",
        "\n",
        "listTwinPrimes(100)\n"
      ],
      "metadata": {
        "colab": {
          "base_uri": "https://localhost:8080/"
        },
        "id": "0J3pKgF_pO_S",
        "outputId": "62fe3b7c-6f4a-4138-86a9-9fdf63b550a3"
      },
      "execution_count": null,
      "outputs": [
        {
          "output_type": "stream",
          "name": "stdout",
          "text": [
            "3 5\n",
            "5 7\n",
            "11 13\n",
            "17 19\n",
            "29 31\n",
            "41 43\n",
            "59 61\n",
            "71 73\n"
          ]
        }
      ]
    },
    {
      "cell_type": "code",
      "source": [
        "#testing rock, paper, scissors\n",
        "import random as rnd\n",
        "rock = paper = scissors = 0\n",
        "for i in range(100000):\n",
        "  playerOne = rnd.randint(1,3)\n",
        "  playerTwo = rnd.randint(1,3)\n",
        "\n",
        "  if ((playerOne == 1 and playerTwo == 3) or (playerTwo == 1 and playerOne == 3)):\n",
        "    rock = rock + 1\n",
        "  elif((playerOne == 2 and playerTwo == 1) or (playerTwo == 2 and playerOne == 1)):\n",
        "    paper = paper+1\n",
        "  elif((playerOne == 3 and playerTwo == 2) or (playerTwo == 3 and playerOne == 2)):\n",
        "    scissor = scissors + 1\n",
        "\n",
        "print(rock/100000)\n",
        "print(paper/100000)\n",
        "print(scissors/100000)\n",
        "print((100000-(rock+paper+scissors))/100000)\n"
      ],
      "metadata": {
        "colab": {
          "base_uri": "https://localhost:8080/"
        },
        "id": "stF6xpuDsCMF",
        "outputId": "183e3ada-51d8-43d6-f021-009b4990aaf1"
      },
      "execution_count": null,
      "outputs": [
        {
          "output_type": "stream",
          "name": "stdout",
          "text": [
            "0.22345\n",
            "0.22086\n",
            "0.0\n",
            "0.55569\n"
          ]
        }
      ]
    },
    {
      "cell_type": "code",
      "source": [
        "#Monty Hall Problem\n",
        "import random as rnd\n",
        "\n",
        "def noChange():\n",
        "  #set 1 and 2 to a goat a nd 3 to a prize\n",
        "  myList = [1,2,3]\n",
        "  rnd.shuffle(myList)\n",
        "\n",
        "  #set up the goats and prize\n",
        "  doors = ['goat', 'goat','goat']\n",
        "  doors[myList.index(3)] = 'prize'\n",
        "\n",
        "  if doors[0] == 'prize':\n",
        "    return 1\n",
        "  else:\n",
        "    return 0\n",
        "\n",
        "def measureNoChange():\n",
        "  total = 0\n",
        "  for i in range(100000):\n",
        "    if(noChange()):\n",
        "      total = total +1\n",
        "  print(total/100000)\n",
        "\n",
        "measureNoChange()\n",
        "\n",
        "\n",
        "\n",
        "\n",
        "\n"
      ],
      "metadata": {
        "colab": {
          "base_uri": "https://localhost:8080/"
        },
        "id": "ExsO2QsguqYu",
        "outputId": "9b5370fa-4431-4c28-f0e3-3a02b98e3f77"
      },
      "execution_count": 1,
      "outputs": [
        {
          "output_type": "stream",
          "name": "stdout",
          "text": [
            "0.33138\n"
          ]
        }
      ]
    },
    {
      "cell_type": "code",
      "source": [
        "def yesChange():\n",
        "  #set 1 and 2 to a goat and 3 to a prize\n",
        "  myList = [1,2,3]\n",
        "  rnd.shuffle(myList)\n",
        "\n",
        "  #set up the goats and prize\n",
        "  doors = ['goat', 'goat', 'goat']\n",
        "  doors[myList.index(3)] = 'prize'\n",
        "\n",
        "  #let the user choose a door\n",
        "  choice = 0\n",
        "\n",
        "  #create the sublist\n",
        "  toShow = doors[1:3]\n",
        "  door_to_show = toShow.index('goat')\n",
        "\n",
        "  if(door_to_show == 0):\n",
        "    if(doors[2] == 'prize'):\n",
        "      return True\n",
        "    else:\n",
        "      return False\n",
        "  elif(door_to_show == 1):\n",
        "    if(doors[1] == 'prize'):\n",
        "      return True\n",
        "    else:\n",
        "      return False\n",
        "\n",
        "def measureChange():\n",
        "  total = 0\n",
        "  for i in range(100000):\n",
        "    if(yesChange()):\n",
        "      total = total +1\n",
        "  print(total/100000)\n",
        "\n",
        "measureChange()\n",
        "\n",
        "      "
      ],
      "metadata": {
        "id": "sQrf74Mj0Shs",
        "colab": {
          "base_uri": "https://localhost:8080/"
        },
        "outputId": "2f29cc73-961a-43f7-b36c-11ce2f366cc6"
      },
      "execution_count": 3,
      "outputs": [
        {
          "output_type": "stream",
          "name": "stdout",
          "text": [
            "0.66645\n"
          ]
        }
      ]
    }
  ]
}