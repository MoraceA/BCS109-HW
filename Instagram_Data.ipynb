{
  "nbformat": 4,
  "nbformat_minor": 0,
  "metadata": {
    "colab": {
      "name": "Instagram Data",
      "provenance": [],
      "authorship_tag": "ABX9TyOVPmUXpwbDrndS9XhPtYti",
      "include_colab_link": true
    },
    "kernelspec": {
      "name": "python3",
      "display_name": "Python 3"
    },
    "language_info": {
      "name": "python"
    }
  },
  "cells": [
    {
      "cell_type": "markdown",
      "metadata": {
        "id": "view-in-github",
        "colab_type": "text"
      },
      "source": [
        "<a href=\"https://colab.research.google.com/github/MoraceA/BCS109-HW/blob/main/Instagram_Data.ipynb\" target=\"_parent\"><img src=\"https://colab.research.google.com/assets/colab-badge.svg\" alt=\"Open In Colab\"/></a>"
      ]
    },
    {
      "cell_type": "code",
      "execution_count": 1,
      "metadata": {
        "colab": {
          "base_uri": "https://localhost:8080/",
          "height": 354
        },
        "id": "ZNsrNVZD_lPE",
        "outputId": "2cf44e87-9a13-4e1e-c689-8d2187f76493"
      },
      "outputs": [
        {
          "output_type": "execute_result",
          "data": {
            "text/plain": [
              "  Country  Rank        Account              Title  \\\n",
              "0     All     1      cristiano  Cristiano Ronaldo   \n",
              "1     All     2    kyliejenner            Kylie 🤍   \n",
              "2     All     3       leomessi          Leo Messi   \n",
              "3     All     4  kendalljenner            Kendall   \n",
              "4     All     5    selenagomez       Selena Gomez   \n",
              "\n",
              "                                       Link                   Category  \\\n",
              "0      https://www.instagram.com/cristiano/         Sports with a ball   \n",
              "1    https://www.instagram.com/kyliejenner/    Fashion|Modeling|Beauty   \n",
              "2       https://www.instagram.com/leomessi/  Sports with a ball|Family   \n",
              "3  https://www.instagram.com/kendalljenner/           Modeling|Fashion   \n",
              "4    https://www.instagram.com/selenagomez/            Music|Lifestyle   \n",
              "\n",
              "     Followers Audience Country  Authentic engagement  Engagement avg  \\\n",
              "0  400100000.0            India             7800000.0       9500000.0   \n",
              "1  308800000.0    United States             6200000.0      10100000.0   \n",
              "2  306300000.0        Argentina             4800000.0       6500000.0   \n",
              "3  217800000.0    United States             3400000.0       5400000.0   \n",
              "4  295800000.0    United States             2700000.0       3600000.0   \n",
              "\n",
              "                      Scraped  \n",
              "0  2022-02-07 16:50:24.798803  \n",
              "1  2022-02-07 16:50:24.798803  \n",
              "2  2022-02-07 16:50:24.798803  \n",
              "3  2022-02-07 16:50:24.798803  \n",
              "4  2022-02-07 16:50:24.798803  "
            ],
            "text/html": [
              "\n",
              "  <div id=\"df-918ef2c1-2933-43fe-b241-55e6629f4942\">\n",
              "    <div class=\"colab-df-container\">\n",
              "      <div>\n",
              "<style scoped>\n",
              "    .dataframe tbody tr th:only-of-type {\n",
              "        vertical-align: middle;\n",
              "    }\n",
              "\n",
              "    .dataframe tbody tr th {\n",
              "        vertical-align: top;\n",
              "    }\n",
              "\n",
              "    .dataframe thead th {\n",
              "        text-align: right;\n",
              "    }\n",
              "</style>\n",
              "<table border=\"1\" class=\"dataframe\">\n",
              "  <thead>\n",
              "    <tr style=\"text-align: right;\">\n",
              "      <th></th>\n",
              "      <th>Country</th>\n",
              "      <th>Rank</th>\n",
              "      <th>Account</th>\n",
              "      <th>Title</th>\n",
              "      <th>Link</th>\n",
              "      <th>Category</th>\n",
              "      <th>Followers</th>\n",
              "      <th>Audience Country</th>\n",
              "      <th>Authentic engagement</th>\n",
              "      <th>Engagement avg</th>\n",
              "      <th>Scraped</th>\n",
              "    </tr>\n",
              "  </thead>\n",
              "  <tbody>\n",
              "    <tr>\n",
              "      <th>0</th>\n",
              "      <td>All</td>\n",
              "      <td>1</td>\n",
              "      <td>cristiano</td>\n",
              "      <td>Cristiano Ronaldo</td>\n",
              "      <td>https://www.instagram.com/cristiano/</td>\n",
              "      <td>Sports with a ball</td>\n",
              "      <td>400100000.0</td>\n",
              "      <td>India</td>\n",
              "      <td>7800000.0</td>\n",
              "      <td>9500000.0</td>\n",
              "      <td>2022-02-07 16:50:24.798803</td>\n",
              "    </tr>\n",
              "    <tr>\n",
              "      <th>1</th>\n",
              "      <td>All</td>\n",
              "      <td>2</td>\n",
              "      <td>kyliejenner</td>\n",
              "      <td>Kylie 🤍</td>\n",
              "      <td>https://www.instagram.com/kyliejenner/</td>\n",
              "      <td>Fashion|Modeling|Beauty</td>\n",
              "      <td>308800000.0</td>\n",
              "      <td>United States</td>\n",
              "      <td>6200000.0</td>\n",
              "      <td>10100000.0</td>\n",
              "      <td>2022-02-07 16:50:24.798803</td>\n",
              "    </tr>\n",
              "    <tr>\n",
              "      <th>2</th>\n",
              "      <td>All</td>\n",
              "      <td>3</td>\n",
              "      <td>leomessi</td>\n",
              "      <td>Leo Messi</td>\n",
              "      <td>https://www.instagram.com/leomessi/</td>\n",
              "      <td>Sports with a ball|Family</td>\n",
              "      <td>306300000.0</td>\n",
              "      <td>Argentina</td>\n",
              "      <td>4800000.0</td>\n",
              "      <td>6500000.0</td>\n",
              "      <td>2022-02-07 16:50:24.798803</td>\n",
              "    </tr>\n",
              "    <tr>\n",
              "      <th>3</th>\n",
              "      <td>All</td>\n",
              "      <td>4</td>\n",
              "      <td>kendalljenner</td>\n",
              "      <td>Kendall</td>\n",
              "      <td>https://www.instagram.com/kendalljenner/</td>\n",
              "      <td>Modeling|Fashion</td>\n",
              "      <td>217800000.0</td>\n",
              "      <td>United States</td>\n",
              "      <td>3400000.0</td>\n",
              "      <td>5400000.0</td>\n",
              "      <td>2022-02-07 16:50:24.798803</td>\n",
              "    </tr>\n",
              "    <tr>\n",
              "      <th>4</th>\n",
              "      <td>All</td>\n",
              "      <td>5</td>\n",
              "      <td>selenagomez</td>\n",
              "      <td>Selena Gomez</td>\n",
              "      <td>https://www.instagram.com/selenagomez/</td>\n",
              "      <td>Music|Lifestyle</td>\n",
              "      <td>295800000.0</td>\n",
              "      <td>United States</td>\n",
              "      <td>2700000.0</td>\n",
              "      <td>3600000.0</td>\n",
              "      <td>2022-02-07 16:50:24.798803</td>\n",
              "    </tr>\n",
              "  </tbody>\n",
              "</table>\n",
              "</div>\n",
              "      <button class=\"colab-df-convert\" onclick=\"convertToInteractive('df-918ef2c1-2933-43fe-b241-55e6629f4942')\"\n",
              "              title=\"Convert this dataframe to an interactive table.\"\n",
              "              style=\"display:none;\">\n",
              "        \n",
              "  <svg xmlns=\"http://www.w3.org/2000/svg\" height=\"24px\"viewBox=\"0 0 24 24\"\n",
              "       width=\"24px\">\n",
              "    <path d=\"M0 0h24v24H0V0z\" fill=\"none\"/>\n",
              "    <path d=\"M18.56 5.44l.94 2.06.94-2.06 2.06-.94-2.06-.94-.94-2.06-.94 2.06-2.06.94zm-11 1L8.5 8.5l.94-2.06 2.06-.94-2.06-.94L8.5 2.5l-.94 2.06-2.06.94zm10 10l.94 2.06.94-2.06 2.06-.94-2.06-.94-.94-2.06-.94 2.06-2.06.94z\"/><path d=\"M17.41 7.96l-1.37-1.37c-.4-.4-.92-.59-1.43-.59-.52 0-1.04.2-1.43.59L10.3 9.45l-7.72 7.72c-.78.78-.78 2.05 0 2.83L4 21.41c.39.39.9.59 1.41.59.51 0 1.02-.2 1.41-.59l7.78-7.78 2.81-2.81c.8-.78.8-2.07 0-2.86zM5.41 20L4 18.59l7.72-7.72 1.47 1.35L5.41 20z\"/>\n",
              "  </svg>\n",
              "      </button>\n",
              "      \n",
              "  <style>\n",
              "    .colab-df-container {\n",
              "      display:flex;\n",
              "      flex-wrap:wrap;\n",
              "      gap: 12px;\n",
              "    }\n",
              "\n",
              "    .colab-df-convert {\n",
              "      background-color: #E8F0FE;\n",
              "      border: none;\n",
              "      border-radius: 50%;\n",
              "      cursor: pointer;\n",
              "      display: none;\n",
              "      fill: #1967D2;\n",
              "      height: 32px;\n",
              "      padding: 0 0 0 0;\n",
              "      width: 32px;\n",
              "    }\n",
              "\n",
              "    .colab-df-convert:hover {\n",
              "      background-color: #E2EBFA;\n",
              "      box-shadow: 0px 1px 2px rgba(60, 64, 67, 0.3), 0px 1px 3px 1px rgba(60, 64, 67, 0.15);\n",
              "      fill: #174EA6;\n",
              "    }\n",
              "\n",
              "    [theme=dark] .colab-df-convert {\n",
              "      background-color: #3B4455;\n",
              "      fill: #D2E3FC;\n",
              "    }\n",
              "\n",
              "    [theme=dark] .colab-df-convert:hover {\n",
              "      background-color: #434B5C;\n",
              "      box-shadow: 0px 1px 3px 1px rgba(0, 0, 0, 0.15);\n",
              "      filter: drop-shadow(0px 1px 2px rgba(0, 0, 0, 0.3));\n",
              "      fill: #FFFFFF;\n",
              "    }\n",
              "  </style>\n",
              "\n",
              "      <script>\n",
              "        const buttonEl =\n",
              "          document.querySelector('#df-918ef2c1-2933-43fe-b241-55e6629f4942 button.colab-df-convert');\n",
              "        buttonEl.style.display =\n",
              "          google.colab.kernel.accessAllowed ? 'block' : 'none';\n",
              "\n",
              "        async function convertToInteractive(key) {\n",
              "          const element = document.querySelector('#df-918ef2c1-2933-43fe-b241-55e6629f4942');\n",
              "          const dataTable =\n",
              "            await google.colab.kernel.invokeFunction('convertToInteractive',\n",
              "                                                     [key], {});\n",
              "          if (!dataTable) return;\n",
              "\n",
              "          const docLinkHtml = 'Like what you see? Visit the ' +\n",
              "            '<a target=\"_blank\" href=https://colab.research.google.com/notebooks/data_table.ipynb>data table notebook</a>'\n",
              "            + ' to learn more about interactive tables.';\n",
              "          element.innerHTML = '';\n",
              "          dataTable['output_type'] = 'display_data';\n",
              "          await google.colab.output.renderOutput(dataTable, element);\n",
              "          const docLink = document.createElement('div');\n",
              "          docLink.innerHTML = docLinkHtml;\n",
              "          element.appendChild(docLink);\n",
              "        }\n",
              "      </script>\n",
              "    </div>\n",
              "  </div>\n",
              "  "
            ]
          },
          "metadata": {},
          "execution_count": 1
        }
      ],
      "source": [
        "#importing data\n",
        "#https://raw.githubusercontent.com/MoraceA/Insragramdata/main/instagram_global_top_1000%20(2).csv\n",
        "\n",
        "import pandas as pd\n",
        "import numpy as np\n",
        "import matplotlib.pyplot as plt\n",
        "import missingno as msno\n",
        "import seaborn as sns\n",
        "\n",
        "df = pd.read_csv(\"https://raw.githubusercontent.com/MoraceA/Insragramdata/main/instagram_global_top_1000%20(2).csv\")\n",
        "df.head()"
      ]
    },
    {
      "cell_type": "code",
      "source": [
        "#check for nulls\n",
        "df.isnull().sum()"
      ],
      "metadata": {
        "colab": {
          "base_uri": "https://localhost:8080/"
        },
        "id": "sgbhi1ScAuE8",
        "outputId": "8dd98dd4-40d9-4f83-8baf-e24f01a5af3e"
      },
      "execution_count": 2,
      "outputs": [
        {
          "output_type": "execute_result",
          "data": {
            "text/plain": [
              "Country                  0\n",
              "Rank                     0\n",
              "Account                  0\n",
              "Title                   17\n",
              "Link                     0\n",
              "Category                91\n",
              "Followers                0\n",
              "Audience Country         7\n",
              "Authentic engagement     0\n",
              "Engagement avg           0\n",
              "Scraped                  0\n",
              "dtype: int64"
            ]
          },
          "metadata": {},
          "execution_count": 2
        }
      ]
    },
    {
      "cell_type": "code",
      "source": [
        "#number of unique values\n",
        "df.nunique()"
      ],
      "metadata": {
        "colab": {
          "base_uri": "https://localhost:8080/"
        },
        "id": "wuWdyO_OBAru",
        "outputId": "8b424d0e-3319-4620-d60f-0fe9b0ec4dae"
      },
      "execution_count": 3,
      "outputs": [
        {
          "output_type": "execute_result",
          "data": {
            "text/plain": [
              "Country                    1\n",
              "Rank                    1000\n",
              "Account                 1000\n",
              "Title                    982\n",
              "Link                    1000\n",
              "Category                 165\n",
              "Followers                399\n",
              "Audience Country          31\n",
              "Authentic engagement     854\n",
              "Engagement avg           793\n",
              "Scraped                    1\n",
              "dtype: int64"
            ]
          },
          "metadata": {},
          "execution_count": 3
        }
      ]
    },
    {
      "cell_type": "code",
      "source": [
        "#access everything\n",
        "df.describe()"
      ],
      "metadata": {
        "colab": {
          "base_uri": "https://localhost:8080/",
          "height": 300
        },
        "id": "H0yRNFSQBTmK",
        "outputId": "f588e9c7-b38f-4c03-f076-5b1174e42648"
      },
      "execution_count": 4,
      "outputs": [
        {
          "output_type": "execute_result",
          "data": {
            "text/plain": [
              "              Rank     Followers  Authentic engagement  Engagement avg\n",
              "count  1000.000000  1.000000e+03          1.000000e+03    1.000000e+03\n",
              "mean    500.500000  2.483610e+07          6.491228e+05    8.653886e+05\n",
              "std     288.819436  3.872143e+07          1.098804e+06    1.267515e+06\n",
              "min       1.000000  2.800000e+06          0.000000e+00    5.200000e+04\n",
              "25%     250.750000  9.000000e+06          2.091000e+05    3.086000e+05\n",
              "50%     500.500000  1.440000e+07          3.637000e+05    5.239000e+05\n",
              "75%     750.250000  2.565000e+07          6.832500e+05    9.508000e+05\n",
              "max    1000.000000  4.696000e+08          1.340000e+07    1.340000e+07"
            ],
            "text/html": [
              "\n",
              "  <div id=\"df-abe2b068-dc2f-45a1-87ce-fd6626978786\">\n",
              "    <div class=\"colab-df-container\">\n",
              "      <div>\n",
              "<style scoped>\n",
              "    .dataframe tbody tr th:only-of-type {\n",
              "        vertical-align: middle;\n",
              "    }\n",
              "\n",
              "    .dataframe tbody tr th {\n",
              "        vertical-align: top;\n",
              "    }\n",
              "\n",
              "    .dataframe thead th {\n",
              "        text-align: right;\n",
              "    }\n",
              "</style>\n",
              "<table border=\"1\" class=\"dataframe\">\n",
              "  <thead>\n",
              "    <tr style=\"text-align: right;\">\n",
              "      <th></th>\n",
              "      <th>Rank</th>\n",
              "      <th>Followers</th>\n",
              "      <th>Authentic engagement</th>\n",
              "      <th>Engagement avg</th>\n",
              "    </tr>\n",
              "  </thead>\n",
              "  <tbody>\n",
              "    <tr>\n",
              "      <th>count</th>\n",
              "      <td>1000.000000</td>\n",
              "      <td>1.000000e+03</td>\n",
              "      <td>1.000000e+03</td>\n",
              "      <td>1.000000e+03</td>\n",
              "    </tr>\n",
              "    <tr>\n",
              "      <th>mean</th>\n",
              "      <td>500.500000</td>\n",
              "      <td>2.483610e+07</td>\n",
              "      <td>6.491228e+05</td>\n",
              "      <td>8.653886e+05</td>\n",
              "    </tr>\n",
              "    <tr>\n",
              "      <th>std</th>\n",
              "      <td>288.819436</td>\n",
              "      <td>3.872143e+07</td>\n",
              "      <td>1.098804e+06</td>\n",
              "      <td>1.267515e+06</td>\n",
              "    </tr>\n",
              "    <tr>\n",
              "      <th>min</th>\n",
              "      <td>1.000000</td>\n",
              "      <td>2.800000e+06</td>\n",
              "      <td>0.000000e+00</td>\n",
              "      <td>5.200000e+04</td>\n",
              "    </tr>\n",
              "    <tr>\n",
              "      <th>25%</th>\n",
              "      <td>250.750000</td>\n",
              "      <td>9.000000e+06</td>\n",
              "      <td>2.091000e+05</td>\n",
              "      <td>3.086000e+05</td>\n",
              "    </tr>\n",
              "    <tr>\n",
              "      <th>50%</th>\n",
              "      <td>500.500000</td>\n",
              "      <td>1.440000e+07</td>\n",
              "      <td>3.637000e+05</td>\n",
              "      <td>5.239000e+05</td>\n",
              "    </tr>\n",
              "    <tr>\n",
              "      <th>75%</th>\n",
              "      <td>750.250000</td>\n",
              "      <td>2.565000e+07</td>\n",
              "      <td>6.832500e+05</td>\n",
              "      <td>9.508000e+05</td>\n",
              "    </tr>\n",
              "    <tr>\n",
              "      <th>max</th>\n",
              "      <td>1000.000000</td>\n",
              "      <td>4.696000e+08</td>\n",
              "      <td>1.340000e+07</td>\n",
              "      <td>1.340000e+07</td>\n",
              "    </tr>\n",
              "  </tbody>\n",
              "</table>\n",
              "</div>\n",
              "      <button class=\"colab-df-convert\" onclick=\"convertToInteractive('df-abe2b068-dc2f-45a1-87ce-fd6626978786')\"\n",
              "              title=\"Convert this dataframe to an interactive table.\"\n",
              "              style=\"display:none;\">\n",
              "        \n",
              "  <svg xmlns=\"http://www.w3.org/2000/svg\" height=\"24px\"viewBox=\"0 0 24 24\"\n",
              "       width=\"24px\">\n",
              "    <path d=\"M0 0h24v24H0V0z\" fill=\"none\"/>\n",
              "    <path d=\"M18.56 5.44l.94 2.06.94-2.06 2.06-.94-2.06-.94-.94-2.06-.94 2.06-2.06.94zm-11 1L8.5 8.5l.94-2.06 2.06-.94-2.06-.94L8.5 2.5l-.94 2.06-2.06.94zm10 10l.94 2.06.94-2.06 2.06-.94-2.06-.94-.94-2.06-.94 2.06-2.06.94z\"/><path d=\"M17.41 7.96l-1.37-1.37c-.4-.4-.92-.59-1.43-.59-.52 0-1.04.2-1.43.59L10.3 9.45l-7.72 7.72c-.78.78-.78 2.05 0 2.83L4 21.41c.39.39.9.59 1.41.59.51 0 1.02-.2 1.41-.59l7.78-7.78 2.81-2.81c.8-.78.8-2.07 0-2.86zM5.41 20L4 18.59l7.72-7.72 1.47 1.35L5.41 20z\"/>\n",
              "  </svg>\n",
              "      </button>\n",
              "      \n",
              "  <style>\n",
              "    .colab-df-container {\n",
              "      display:flex;\n",
              "      flex-wrap:wrap;\n",
              "      gap: 12px;\n",
              "    }\n",
              "\n",
              "    .colab-df-convert {\n",
              "      background-color: #E8F0FE;\n",
              "      border: none;\n",
              "      border-radius: 50%;\n",
              "      cursor: pointer;\n",
              "      display: none;\n",
              "      fill: #1967D2;\n",
              "      height: 32px;\n",
              "      padding: 0 0 0 0;\n",
              "      width: 32px;\n",
              "    }\n",
              "\n",
              "    .colab-df-convert:hover {\n",
              "      background-color: #E2EBFA;\n",
              "      box-shadow: 0px 1px 2px rgba(60, 64, 67, 0.3), 0px 1px 3px 1px rgba(60, 64, 67, 0.15);\n",
              "      fill: #174EA6;\n",
              "    }\n",
              "\n",
              "    [theme=dark] .colab-df-convert {\n",
              "      background-color: #3B4455;\n",
              "      fill: #D2E3FC;\n",
              "    }\n",
              "\n",
              "    [theme=dark] .colab-df-convert:hover {\n",
              "      background-color: #434B5C;\n",
              "      box-shadow: 0px 1px 3px 1px rgba(0, 0, 0, 0.15);\n",
              "      filter: drop-shadow(0px 1px 2px rgba(0, 0, 0, 0.3));\n",
              "      fill: #FFFFFF;\n",
              "    }\n",
              "  </style>\n",
              "\n",
              "      <script>\n",
              "        const buttonEl =\n",
              "          document.querySelector('#df-abe2b068-dc2f-45a1-87ce-fd6626978786 button.colab-df-convert');\n",
              "        buttonEl.style.display =\n",
              "          google.colab.kernel.accessAllowed ? 'block' : 'none';\n",
              "\n",
              "        async function convertToInteractive(key) {\n",
              "          const element = document.querySelector('#df-abe2b068-dc2f-45a1-87ce-fd6626978786');\n",
              "          const dataTable =\n",
              "            await google.colab.kernel.invokeFunction('convertToInteractive',\n",
              "                                                     [key], {});\n",
              "          if (!dataTable) return;\n",
              "\n",
              "          const docLinkHtml = 'Like what you see? Visit the ' +\n",
              "            '<a target=\"_blank\" href=https://colab.research.google.com/notebooks/data_table.ipynb>data table notebook</a>'\n",
              "            + ' to learn more about interactive tables.';\n",
              "          element.innerHTML = '';\n",
              "          dataTable['output_type'] = 'display_data';\n",
              "          await google.colab.output.renderOutput(dataTable, element);\n",
              "          const docLink = document.createElement('div');\n",
              "          docLink.innerHTML = docLinkHtml;\n",
              "          element.appendChild(docLink);\n",
              "        }\n",
              "      </script>\n",
              "    </div>\n",
              "  </div>\n",
              "  "
            ]
          },
          "metadata": {},
          "execution_count": 4
        }
      ]
    },
    {
      "cell_type": "code",
      "source": [
        "sns.catplot(data=df, kind='box', size=4, aspect=2)"
      ],
      "metadata": {
        "colab": {
          "base_uri": "https://localhost:8080/",
          "height": 350
        },
        "id": "IBpLw-72BnPn",
        "outputId": "ad19353d-edd6-4340-db09-458d9c614580"
      },
      "execution_count": 5,
      "outputs": [
        {
          "output_type": "stream",
          "name": "stderr",
          "text": [
            "/usr/local/lib/python3.7/dist-packages/seaborn/categorical.py:3750: UserWarning: The `size` parameter has been renamed to `height`; please update your code.\n",
            "  warnings.warn(msg, UserWarning)\n"
          ]
        },
        {
          "output_type": "execute_result",
          "data": {
            "text/plain": [
              "<seaborn.axisgrid.FacetGrid at 0x7f065a123a10>"
            ]
          },
          "metadata": {},
          "execution_count": 5
        },
        {
          "output_type": "display_data",
          "data": {
            "text/plain": [
              "<Figure size 576x288 with 1 Axes>"
            ],
            "image/png": "[encoded data removed]"
          },
          "metadata": {
            "needs_background": "light"
          }
        }
      ]
    },
    {
      "cell_type": "code",
      "source": [
        "sns.factorplot(x='Followers', data=df, kind='count', size = 3, aspect=1.1)"
      ],
      "metadata": {
        "colab": {
          "base_uri": "https://localhost:8080/",
          "height": 334
        },
        "id": "1-uBQPZtCYnK",
        "outputId": "51d1fa23-f468-492c-ac19-274f52a3dd47"
      },
      "execution_count": 7,
      "outputs": [
        {
          "output_type": "stream",
          "name": "stderr",
          "text": [
            "/usr/local/lib/python3.7/dist-packages/seaborn/categorical.py:3717: UserWarning: The `factorplot` function has been renamed to `catplot`. The original name will be removed in a future release. Please update your code. Note that the default `kind` in `factorplot` (`'point'`) has changed `'strip'` in `catplot`.\n",
            "  warnings.warn(msg)\n",
            "/usr/local/lib/python3.7/dist-packages/seaborn/categorical.py:3723: UserWarning: The `size` parameter has been renamed to `height`; please update your code.\n",
            "  warnings.warn(msg, UserWarning)\n"
          ]
        },
        {
          "output_type": "execute_result",
          "data": {
            "text/plain": [
              "<seaborn.axisgrid.FacetGrid at 0x7f0655a9e090>"
            ]
          },
          "metadata": {},
          "execution_count": 7
        },
        {
          "output_type": "display_data",
          "data": {
            "text/plain": [
              "<Figure size 237.6x216 with 1 Axes>"
            ],
            "image/png": "[encoded data removed]"
          },
          "metadata": {
            "needs_background": "light"
          }
        }
      ]
    },
    {
      "cell_type": "code",
      "source": [
        "sns.catplot(x='Followers', data=df, kind='count',height=2, aspect=1.1)"
      ],
      "metadata": {
        "colab": {
          "base_uri": "https://localhost:8080/",
          "height": 171
        },
        "id": "ASPLHvkKC-lP",
        "outputId": "e523945f-16e6-495a-a5d5-7179001f94be"
      },
      "execution_count": 15,
      "outputs": [
        {
          "output_type": "execute_result",
          "data": {
            "text/plain": [
              "<seaborn.axisgrid.FacetGrid at 0x7f065171ae50>"
            ]
          },
          "metadata": {},
          "execution_count": 15
        },
        {
          "output_type": "display_data",
          "data": {
            "text/plain": [
              "<Figure size 158.4x144 with 1 Axes>"
            ],
            "image/png": "[encoded data removed]"
          },
          "metadata": {
            "needs_background": "light"
          }
        }
      ]
    },
    {
      "cell_type": "code",
      "source": [
        "sns.catplot(x='Authentic engagement', data=df, kind='count',height=10, aspect=5)"
      ],
      "metadata": {
        "colab": {
          "base_uri": "https://localhost:8080/",
          "height": 296
        },
        "id": "2MhH8428Eto3",
        "outputId": "b55c6ffe-cdfc-422d-deeb-4bb02502343b"
      },
      "execution_count": 19,
      "outputs": [
        {
          "output_type": "execute_result",
          "data": {
            "text/plain": [
              "<seaborn.axisgrid.FacetGrid at 0x7f064f8c8f50>"
            ]
          },
          "metadata": {},
          "execution_count": 19
        },
        {
          "output_type": "display_data",
          "data": {
            "text/plain": [
              "<Figure size 3600x720 with 1 Axes>"
            ],
            "image/png": "[encoded data removed]"
          },
          "metadata": {
            "needs_background": "light"
          }
        }
      ]
    },
    {
      "cell_type": "code",
      "source": [
        "df.hist(figsize=(20,10), bins=20, xlabelsize=20, ylabelsize=20)"
      ],
      "metadata": {
        "colab": {
          "base_uri": "https://localhost:8080/",
          "height": 719
        },
        "id": "ugCeCsqqEPP7",
        "outputId": "b684d9cf-2251-4e3b-ab8d-fcb55c17f259"
      },
      "execution_count": 14,
      "outputs": [
        {
          "output_type": "execute_result",
          "data": {
            "text/plain": [
              "array([[<matplotlib.axes._subplots.AxesSubplot object at 0x7f0651209350>,\n",
              "        <matplotlib.axes._subplots.AxesSubplot object at 0x7f0650996750>],\n",
              "       [<matplotlib.axes._subplots.AxesSubplot object at 0x7f0650931d50>,\n",
              "        <matplotlib.axes._subplots.AxesSubplot object at 0x7f0650966390>]],\n",
              "      dtype=object)"
            ]
          },
          "metadata": {},
          "execution_count": 14
        },
        {
          "output_type": "display_data",
          "data": {
            "text/plain": [
              "<Figure size 1440x720 with 4 Axes>"
            ],
            "image/png": "[encoded data removed]"
          },
          "metadata": {
            "needs_background": "light"
          }
        }
      ]
    },
    {
      "cell_type": "markdown",
      "source": [
        "**Data Science**\n",
        "\n",
        "Data science is the the overall process of discovering useful information from data, and is the combination of computer science and data mining.The data process is a tangable useful class of machine learning.\n",
        "\n",
        "\n",
        "**What is the difference between lists and tuples**\n",
        "\n",
        "The difference between lists and tuples is that lists are mutable and tuples are immutable\n",
        "\n",
        "**scikit learn**\n",
        "\n",
        "\n",
        "\n",
        "*   used for machine learning and statistical modelling\n",
        "\n",
        "\n",
        "**pandas**\n",
        "* works with relational data \n",
        "\n",
        "\n",
        "**tensorflow**\n",
        "\n",
        "* used for fast numerical computing\n",
        "\n",
        "\n",
        "\n",
        "\n",
        "\n",
        "**numpy**\n",
        "\n",
        "* used for working with arrays\n",
        "\n",
        "\n",
        "\n",
        "**tkinter**\n",
        "\n",
        "* creates graphical user interfaces\n"
      ],
      "metadata": {
        "id": "vLiCULR2sGyj"
      }
    }
  ]
}