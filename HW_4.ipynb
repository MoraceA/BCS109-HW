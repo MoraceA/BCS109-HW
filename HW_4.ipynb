{
  "nbformat": 4,
  "nbformat_minor": 0,
  "metadata": {
    "colab": {
      "name": "HW 4",
      "provenance": [],
      "authorship_tag": "ABX9TyMoeIC1HlIi0akHSLIIer4p",
      "include_colab_link": true
    },
    "kernelspec": {
      "name": "python3",
      "display_name": "Python 3"
    },
    "language_info": {
      "name": "python"
    }
  },
  "cells": [
    {
      "cell_type": "markdown",
      "metadata": {
        "id": "view-in-github",
        "colab_type": "text"
      },
      "source": [
        "<a href=\"https://colab.research.google.com/github/MoraceA/BCS109-HW/blob/main/HW_4.ipynb\" target=\"_parent\"><img src=\"https://colab.research.google.com/assets/colab-badge.svg\" alt=\"Open In Colab\"/></a>"
      ]
    },
    {
      "cell_type": "markdown",
      "source": [
        "#HW #4"
      ],
      "metadata": {
        "id": "SY8BXKTQTjQd"
      }
    },
    {
      "cell_type": "code",
      "execution_count": 4,
      "metadata": {
        "colab": {
          "base_uri": "https://localhost:8080/"
        },
        "id": "BTeNQIgITeeC",
        "outputId": "408e0a42-b53e-4937-f92f-74b9ac46a75d"
      },
      "outputs": [
        {
          "output_type": "stream",
          "name": "stdout",
          "text": [
            "How many would you like to purchase?25\n",
            "The discount is 20.0%\n",
            "The total price is $1,980.00\n"
          ]
        }
      ],
      "source": [
        "item_price = 99\n",
        "amount = 0\n",
        "discount = 0\n",
        "total_price = 0\n",
        "\n",
        "amount = int(input(\"How many would you like to purchase?\"))\n",
        "\n",
        "if (amount >= 10 and amount <= 19):\n",
        "  discount = .1\n",
        "elif (amount >= 20 and amount <= 49):\n",
        "  discount = .2\n",
        "elif (amount >= 50 and amount <= 99):\n",
        "  discount = .3\n",
        "elif (amount >= 100):\n",
        "  discount = .4\n",
        "\n",
        "#print the discount\n",
        "print(f\"The discount is {discount*100}%\")\n",
        "\n",
        "#calculate and print the total price\n",
        "total_price = amount*item_price*(1-discount)\n",
        "print(f\"The total price is ${total_price:,.2f}\")\n",
        "\n",
        "\n"
      ]
    },
    {
      "cell_type": "code",
      "source": [
        "weight = 0\n",
        "rate_per_pound = 0\n",
        "\n",
        "weight = float(input(\"How much does your package weigh?\"))\n",
        "\n",
        "if(weight <= 2):\n",
        "  rate_per_pound = 1.5\n",
        "elif(weight >2 and weight <=6):\n",
        "  rate_per_pound = 3\n",
        "elif (weight >6 and weight <= 10):\n",
        "  rate_per_pound = 4\n",
        "elif (weight > 10):\n",
        "  rate_per_pound = 4.75\n",
        "  shipping_charges = rate * weight\n",
        "print(f\"The Shipping charges is ${shipping_charges:,.2f}\")\n",
        "\n",
        "  "
      ],
      "metadata": {
        "id": "fz5XvYOnaD0d",
        "colab": {
          "base_uri": "https://localhost:8080/"
        },
        "outputId": "a2b198df-2813-41ff-878d-38e3dd156a8c"
      },
      "execution_count": 28,
      "outputs": [
        {
          "output_type": "stream",
          "name": "stdout",
          "text": [
            "How much does your package weigh?1\n",
            "The Shipping charges is $3.00\n"
          ]
        }
      ]
    }
  ]
}